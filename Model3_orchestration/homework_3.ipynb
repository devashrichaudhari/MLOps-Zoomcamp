{
 "cells": [
  {
   "cell_type": "code",
   "execution_count": null,
   "metadata": {},
   "outputs": [],
   "source": []
  },
  {
   "cell_type": "markdown",
   "metadata": {},
   "source": [
    "### Q1. Human-readable name\n",
    "You’d like to give the first task, read_data a nicely formatted name. How can you specify a task name?  \n",
    "\n",
    "Hint: look in the docs at https://docs.prefect.io or check out the doc string in a code editor.  \n",
    "\n",
    "@task(retries=3, retry_delay_seconds=2, name=\"Read taxi data\")  \n",
    "@task(retries=3, retry_delay_seconds=2, task_name=\"Read taxi data\")  \n",
    "@task(retries=3, retry_delay_seconds=2, task-name=\"Read taxi data\")  \n",
    "@task(retries=3, retry_delay_seconds=2, task_name_function=lambda x: f\"Read taxi data\")  "
   ]
  },
  {
   "cell_type": "markdown",
   "metadata": {},
   "source": [
    "Ans:  \n",
    "@task(retries=3, retry_delay_seconds=2, name=\"Read taxi data\") "
   ]
  },
  {
   "cell_type": "markdown",
   "metadata": {},
   "source": [
    "### Q2. Cron\n",
    "Cron is a common scheduling specification for workflows.  \n",
    "\n",
    "Using the flow in orchestrate.py, create a deployment. Schedule your deployment to run on the third day of every month at 9am UTC. What’s the cron schedule for that?    \n",
    "\n",
    "* 0 9 3 * *  \n",
    "* 0 0 9 3 *  \n",
    "* 9 * 3 0 *  \n",
    "*     * * 9 3 0  "
   ]
  },
  {
   "cell_type": "markdown",
   "metadata": {},
   "source": [
    "Ans:  \n",
    "\n",
    "    0 9 3 * *  \n",
    "    In this schedule, the fields represent the following:  \n",
    "        - Minute: 0 (run at the 0th minute of the hour)  \n",
    "        - Hour: 9 (run at the 9th hour)  \n",
    "        - Day of the month: 3 (run on the 3rd day)  \n",
    "        - Month: * (run every month)  \n",
    "        - Day of the week: * (ignore the day of the week field)  \n",
    "        So, the deployment will be scheduled to run at 9:00 AM UTC on the 3rd day of every month.\n"
   ]
  },
  {
   "cell_type": "markdown",
   "metadata": {},
   "source": [
    "### Q3. RMSE  \n",
    "What’s the final RMSE to five decimal places?\n",
    "* 6.67433\n",
    "* 5.19931\n",
    "* 8.89443\n",
    "* 9.12250"
   ]
  },
  {
   "cell_type": "markdown",
   "metadata": {},
   "source": [
    "Ans: \n",
    "    RMSE: 7.35616"
   ]
  },
  {
   "cell_type": "markdown",
   "metadata": {},
   "source": [
    "### Q4. RMSE (Markdown Artifact)\n",
    "\n",
    "What’s the RMSE in the artifact to two decimal places ?\n",
    "\n",
    "* 9.71\n",
    "* 12.02\n",
    "* 15.33\n",
    "* 5.37"
   ]
  },
  {
   "cell_type": "markdown",
   "metadata": {},
   "source": [
    "Ans:\n",
    "\n",
    "    RMSE: 7.356160616965758"
   ]
  },
  {
   "cell_type": "markdown",
   "metadata": {},
   "source": [
    "### Q5. Emails\n",
    "\n",
    "What is the name of the pre-built prefect-email task function?\n",
    "\n",
    "* send_email_message\n",
    "* email_send_message\n",
    "* send_email\n",
    "* send_message"
   ]
  },
  {
   "cell_type": "markdown",
   "metadata": {},
   "source": [
    "Ans:\n",
    "    email_send_message"
   ]
  },
  {
   "cell_type": "markdown",
   "metadata": {},
   "source": [
    "### Q6. Prefect Cloud\n",
    "\n",
    "What is the name of the second step in the Automation creation process?\n",
    "\n",
    "- Details\n",
    "- Trigger\n",
    "- Actions\n",
    "- The end"
   ]
  },
  {
   "cell_type": "markdown",
   "metadata": {},
   "source": [
    "Ans:  \n",
    "The second step in the Automation creation process in Perfect Workflow is **Actions**. \n",
    "\n",
    "Here are the steps involved in creating an automation in Perfect Workflow:\n",
    "\n",
    "1. **Trigger:** This is the event that will trigger the automation. For example, you could create an automation that sends an email when a new lead is created in your CRM system.\n",
    "2. **Actions:** This is where you define the steps that will be taken when the trigger event occurs. For example, you could have the automation send an email to the lead, add them to a contact list, or assign them to a sales team member.\n",
    "3. **Details:** This is where you can specify additional settings for your automation, such as the frequency at which it should run, the criteria that must be met before it runs, and the people who should be notified when it runs.\n",
    "4. **The End:** This is the final step in the automation creation process. Once you have completed all of the previous steps, you can click on the \"Create Automation\" button to save your automation.\n",
    "\n",
    "The **Actions** step is where you can get creative and define the specific tasks that you want your automation to perform. You can use a variety of actions, such as sending emails, creating files, or updating records. You can also chain together multiple actions to create complex workflows.\n",
    "\n",
    "Once you have defined the actions that you want your automation to perform, you can click on the \"Create Automation\" button to save your automation. Your automation will then be triggered when the event that you specified occurs."
   ]
  },
  {
   "cell_type": "markdown",
   "metadata": {},
   "source": []
  }
 ],
 "metadata": {
  "kernelspec": {
   "display_name": "Python 3.9.13 ('base')",
   "language": "python",
   "name": "python3"
  },
  "language_info": {
   "name": "python",
   "version": "3.9.13"
  },
  "orig_nbformat": 4,
  "vscode": {
   "interpreter": {
    "hash": "0d75e20c7390610bbb8db7803ba7697c55998a077f1a4d723b5bb8ea364046f9"
   }
  }
 },
 "nbformat": 4,
 "nbformat_minor": 2
}
